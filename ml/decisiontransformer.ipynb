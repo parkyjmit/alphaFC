{
 "cells": [
  {
   "cell_type": "code",
   "execution_count": 1,
   "outputs": [
    {
     "name": "stderr",
     "output_type": "stream",
     "text": [
      "C:\\Users\\EEL\\miniconda3\\envs\\MOR2\\Lib\\site-packages\\tqdm\\auto.py:21: TqdmWarning: IProgress not found. Please update jupyter and ipywidgets. See https://ipywidgets.readthedocs.io/en/stable/user_install.html\n",
      "  from .autonotebook import tqdm as notebook_tqdm\n"
     ]
    }
   ],
   "source": [
    "from transformers import DecisionTransformerConfig, DecisionTransformerModel\n",
    "\n",
    "# Initializing a DecisionTransformer configuration\n",
    "configuration = DecisionTransformerConfig(\n",
    "    state_dim=2,\n",
    "    act_dim=4,\n",
    "\n",
    ")\n",
    "\n",
    "# Initializing a model (with random weights) from the configuration\n",
    "model = DecisionTransformerModel(configuration)\n",
    "\n",
    "# Accessing the model configuration\n",
    "configuration = model.config"
   ],
   "metadata": {
    "collapsed": false,
    "ExecuteTime": {
     "start_time": "2023-06-13T19:02:53.158123Z",
     "end_time": "2023-06-13T19:02:56.371166Z"
    }
   }
  },
  {
   "cell_type": "code",
   "execution_count": 4,
   "outputs": [],
   "source": [
    "import torch\n",
    "from environment_simulation import DMFCENV\n",
    "\n",
    "# evaluation\n",
    "model = model\n",
    "model.eval()\n",
    "\n",
    "env = DMFCENV(save_dir='logs/constant_action')\n",
    "state_dim = env.observation_space.shape[0]\n",
    "act_dim = env.action_space.shape[0]\n",
    "device = 'cpu'"
   ],
   "metadata": {
    "collapsed": false,
    "ExecuteTime": {
     "start_time": "2023-06-13T19:04:34.686341Z",
     "end_time": "2023-06-13T19:04:34.697181Z"
    }
   }
  },
  {
   "cell_type": "code",
   "execution_count": null,
   "metadata": {
    "collapsed": true
   },
   "outputs": [],
   "source": [
    "\n",
    "state = env.reset()\n",
    "states = torch.from_numpy(state).reshape(1, 1, state_dim).to(device=device, dtype=torch.float32)\n",
    "actions = torch.zeros((1, 1, act_dim), device=device, dtype=torch.float32)\n",
    "rewards = torch.zeros(1, 1, device=device, dtype=torch.float32)\n",
    "target_return = torch.tensor(TARGET_RETURN, dtype=torch.float32).reshape(1, 1)\n",
    "timesteps = torch.tensor(0, device=device, dtype=torch.long).reshape(1, 1)\n",
    "attention_mask = torch.zeros(1, 1, device=device, dtype=torch.float32)\n",
    "\n",
    "# forward pass\n",
    "with torch.no_grad():\n",
    "    state_preds, action_preds, return_preds = model(\n",
    "        states=states,\n",
    "        actions=actions,\n",
    "        rewards=rewards,\n",
    "        returns_to_go=target_return,\n",
    "        timesteps=timesteps,\n",
    "        attention_mask=attention_mask,\n",
    "        return_dict=False,\n",
    "    )"
   ]
  }
 ],
 "metadata": {
  "kernelspec": {
   "display_name": "Python 3",
   "language": "python",
   "name": "python3"
  },
  "language_info": {
   "codemirror_mode": {
    "name": "ipython",
    "version": 2
   },
   "file_extension": ".py",
   "mimetype": "text/x-python",
   "name": "python",
   "nbconvert_exporter": "python",
   "pygments_lexer": "ipython2",
   "version": "2.7.6"
  }
 },
 "nbformat": 4,
 "nbformat_minor": 0
}
